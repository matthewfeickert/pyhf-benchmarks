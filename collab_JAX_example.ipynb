{
  "nbformat": 4,
  "nbformat_minor": 0,
  "metadata": {
    "kernelspec": {
      "display_name": "Python 3",
      "language": "python",
      "name": "python3"
    },
    "language_info": {
      "codemirror_mode": {
        "name": "ipython",
        "version": 3
      },
      "file_extension": ".py",
      "mimetype": "text/x-python",
      "name": "python",
      "nbconvert_exporter": "python",
      "pygments_lexer": "ipython3",
      "version": "3.7.5"
    },
    "colab": {
      "name": "example.ipynb",
      "provenance": []
    },
    "accelerator": "GPU"
  },
  "cells": [
    {
      "cell_type": "code",
      "metadata": {
        "id": "x9w7C1H922to",
        "colab_type": "code",
        "colab": {
          "base_uri": "https://localhost:8080/",
          "height": 989
        },
        "outputId": "2b5c31cd-0cf5-4d13-87d5-04a044a9b57d"
      },
      "source": [
        "!pip install pyhf[xmlio,tensorflow,jax,torch]"
      ],
      "execution_count": 44,
      "outputs": [
        {
          "output_type": "stream",
          "text": [
            "Requirement already satisfied: pyhf[jax,tensorflow,torch,xmlio] in /usr/local/lib/python3.6/dist-packages (0.4.3)\n",
            "Requirement already satisfied: tqdm in /usr/local/lib/python3.6/dist-packages (from pyhf[jax,tensorflow,torch,xmlio]) (4.41.1)\n",
            "Requirement already satisfied: jsonschema>=3.2.0 in /usr/local/lib/python3.6/dist-packages (from pyhf[jax,tensorflow,torch,xmlio]) (3.2.0)\n",
            "Requirement already satisfied: jsonpatch in /usr/local/lib/python3.6/dist-packages (from pyhf[jax,tensorflow,torch,xmlio]) (1.25)\n",
            "Requirement already satisfied: pyyaml in /usr/local/lib/python3.6/dist-packages (from pyhf[jax,tensorflow,torch,xmlio]) (3.13)\n",
            "Requirement already satisfied: scipy>=1.4.0 in /usr/local/lib/python3.6/dist-packages (from pyhf[jax,tensorflow,torch,xmlio]) (1.4.1)\n",
            "Requirement already satisfied: click>=6.0 in /usr/local/lib/python3.6/dist-packages (from pyhf[jax,tensorflow,torch,xmlio]) (7.1.2)\n",
            "Requirement already satisfied: jax>0.1.51,~=0.1; extra == \"jax\" in /usr/local/lib/python3.6/dist-packages (from pyhf[jax,tensorflow,torch,xmlio]) (0.1.69)\n",
            "Requirement already satisfied: jaxlib>0.1.33,~=0.1; extra == \"jax\" in /usr/local/lib/python3.6/dist-packages (from pyhf[jax,tensorflow,torch,xmlio]) (0.1.47)\n",
            "Requirement already satisfied: tensorflow~=2.0; extra == \"tensorflow\" in /usr/local/lib/python3.6/dist-packages (from pyhf[jax,tensorflow,torch,xmlio]) (2.2.0)\n",
            "Requirement already satisfied: tensorflow-probability~=0.8; extra == \"tensorflow\" in /usr/local/lib/python3.6/dist-packages (from pyhf[jax,tensorflow,torch,xmlio]) (0.10.0)\n",
            "Requirement already satisfied: torch~=1.2; extra == \"torch\" in /usr/local/lib/python3.6/dist-packages (from pyhf[jax,tensorflow,torch,xmlio]) (1.5.0+cu101)\n",
            "Requirement already satisfied: uproot; extra == \"xmlio\" in /usr/local/lib/python3.6/dist-packages (from pyhf[jax,tensorflow,torch,xmlio]) (3.11.7)\n",
            "Requirement already satisfied: attrs>=17.4.0 in /usr/local/lib/python3.6/dist-packages (from jsonschema>=3.2.0->pyhf[jax,tensorflow,torch,xmlio]) (19.3.0)\n",
            "Requirement already satisfied: pyrsistent>=0.14.0 in /usr/local/lib/python3.6/dist-packages (from jsonschema>=3.2.0->pyhf[jax,tensorflow,torch,xmlio]) (0.16.0)\n",
            "Requirement already satisfied: importlib-metadata; python_version < \"3.8\" in /usr/local/lib/python3.6/dist-packages (from jsonschema>=3.2.0->pyhf[jax,tensorflow,torch,xmlio]) (1.6.0)\n",
            "Requirement already satisfied: six>=1.11.0 in /usr/local/lib/python3.6/dist-packages (from jsonschema>=3.2.0->pyhf[jax,tensorflow,torch,xmlio]) (1.12.0)\n",
            "Requirement already satisfied: setuptools in /usr/local/lib/python3.6/dist-packages (from jsonschema>=3.2.0->pyhf[jax,tensorflow,torch,xmlio]) (47.1.1)\n",
            "Requirement already satisfied: jsonpointer>=1.9 in /usr/local/lib/python3.6/dist-packages (from jsonpatch->pyhf[jax,tensorflow,torch,xmlio]) (2.0)\n",
            "Requirement already satisfied: numpy>=1.13.3 in /usr/local/lib/python3.6/dist-packages (from scipy>=1.4.0->pyhf[jax,tensorflow,torch,xmlio]) (1.18.5)\n",
            "Requirement already satisfied: absl-py in /usr/local/lib/python3.6/dist-packages (from jax>0.1.51,~=0.1; extra == \"jax\"->pyhf[jax,tensorflow,torch,xmlio]) (0.9.0)\n",
            "Requirement already satisfied: opt-einsum in /usr/local/lib/python3.6/dist-packages (from jax>0.1.51,~=0.1; extra == \"jax\"->pyhf[jax,tensorflow,torch,xmlio]) (3.2.1)\n",
            "Requirement already satisfied: keras-preprocessing>=1.1.0 in /usr/local/lib/python3.6/dist-packages (from tensorflow~=2.0; extra == \"tensorflow\"->pyhf[jax,tensorflow,torch,xmlio]) (1.1.2)\n",
            "Requirement already satisfied: gast==0.3.3 in /usr/local/lib/python3.6/dist-packages (from tensorflow~=2.0; extra == \"tensorflow\"->pyhf[jax,tensorflow,torch,xmlio]) (0.3.3)\n",
            "Requirement already satisfied: wheel>=0.26; python_version >= \"3\" in /usr/local/lib/python3.6/dist-packages (from tensorflow~=2.0; extra == \"tensorflow\"->pyhf[jax,tensorflow,torch,xmlio]) (0.34.2)\n",
            "Requirement already satisfied: tensorboard<2.3.0,>=2.2.0 in /usr/local/lib/python3.6/dist-packages (from tensorflow~=2.0; extra == \"tensorflow\"->pyhf[jax,tensorflow,torch,xmlio]) (2.2.2)\n",
            "Requirement already satisfied: astunparse==1.6.3 in /usr/local/lib/python3.6/dist-packages (from tensorflow~=2.0; extra == \"tensorflow\"->pyhf[jax,tensorflow,torch,xmlio]) (1.6.3)\n",
            "Requirement already satisfied: protobuf>=3.8.0 in /usr/local/lib/python3.6/dist-packages (from tensorflow~=2.0; extra == \"tensorflow\"->pyhf[jax,tensorflow,torch,xmlio]) (3.10.0)\n",
            "Requirement already satisfied: termcolor>=1.1.0 in /usr/local/lib/python3.6/dist-packages (from tensorflow~=2.0; extra == \"tensorflow\"->pyhf[jax,tensorflow,torch,xmlio]) (1.1.0)\n",
            "Requirement already satisfied: grpcio>=1.8.6 in /usr/local/lib/python3.6/dist-packages (from tensorflow~=2.0; extra == \"tensorflow\"->pyhf[jax,tensorflow,torch,xmlio]) (1.29.0)\n",
            "Requirement already satisfied: tensorflow-estimator<2.3.0,>=2.2.0 in /usr/local/lib/python3.6/dist-packages (from tensorflow~=2.0; extra == \"tensorflow\"->pyhf[jax,tensorflow,torch,xmlio]) (2.2.0)\n",
            "Requirement already satisfied: google-pasta>=0.1.8 in /usr/local/lib/python3.6/dist-packages (from tensorflow~=2.0; extra == \"tensorflow\"->pyhf[jax,tensorflow,torch,xmlio]) (0.2.0)\n",
            "Requirement already satisfied: h5py<2.11.0,>=2.10.0 in /usr/local/lib/python3.6/dist-packages (from tensorflow~=2.0; extra == \"tensorflow\"->pyhf[jax,tensorflow,torch,xmlio]) (2.10.0)\n",
            "Requirement already satisfied: wrapt>=1.11.1 in /usr/local/lib/python3.6/dist-packages (from tensorflow~=2.0; extra == \"tensorflow\"->pyhf[jax,tensorflow,torch,xmlio]) (1.12.1)\n",
            "Requirement already satisfied: cloudpickle>=1.2.2 in /usr/local/lib/python3.6/dist-packages (from tensorflow-probability~=0.8; extra == \"tensorflow\"->pyhf[jax,tensorflow,torch,xmlio]) (1.3.0)\n",
            "Requirement already satisfied: decorator in /usr/local/lib/python3.6/dist-packages (from tensorflow-probability~=0.8; extra == \"tensorflow\"->pyhf[jax,tensorflow,torch,xmlio]) (4.4.2)\n",
            "Requirement already satisfied: future in /usr/local/lib/python3.6/dist-packages (from torch~=1.2; extra == \"torch\"->pyhf[jax,tensorflow,torch,xmlio]) (0.16.0)\n",
            "Requirement already satisfied: uproot-methods>=0.7.0 in /usr/local/lib/python3.6/dist-packages (from uproot; extra == \"xmlio\"->pyhf[jax,tensorflow,torch,xmlio]) (0.7.4)\n",
            "Requirement already satisfied: cachetools in /usr/local/lib/python3.6/dist-packages (from uproot; extra == \"xmlio\"->pyhf[jax,tensorflow,torch,xmlio]) (3.1.1)\n",
            "Requirement already satisfied: awkward<1.0,>=0.12.0 in /usr/local/lib/python3.6/dist-packages (from uproot; extra == \"xmlio\"->pyhf[jax,tensorflow,torch,xmlio]) (0.12.21)\n",
            "Requirement already satisfied: zipp>=0.5 in /usr/local/lib/python3.6/dist-packages (from importlib-metadata; python_version < \"3.8\"->jsonschema>=3.2.0->pyhf[jax,tensorflow,torch,xmlio]) (3.1.0)\n",
            "Requirement already satisfied: google-auth<2,>=1.6.3 in /usr/local/lib/python3.6/dist-packages (from tensorboard<2.3.0,>=2.2.0->tensorflow~=2.0; extra == \"tensorflow\"->pyhf[jax,tensorflow,torch,xmlio]) (1.7.2)\n",
            "Requirement already satisfied: werkzeug>=0.11.15 in /usr/local/lib/python3.6/dist-packages (from tensorboard<2.3.0,>=2.2.0->tensorflow~=2.0; extra == \"tensorflow\"->pyhf[jax,tensorflow,torch,xmlio]) (1.0.1)\n",
            "Requirement already satisfied: google-auth-oauthlib<0.5,>=0.4.1 in /usr/local/lib/python3.6/dist-packages (from tensorboard<2.3.0,>=2.2.0->tensorflow~=2.0; extra == \"tensorflow\"->pyhf[jax,tensorflow,torch,xmlio]) (0.4.1)\n",
            "Requirement already satisfied: markdown>=2.6.8 in /usr/local/lib/python3.6/dist-packages (from tensorboard<2.3.0,>=2.2.0->tensorflow~=2.0; extra == \"tensorflow\"->pyhf[jax,tensorflow,torch,xmlio]) (3.2.2)\n",
            "Requirement already satisfied: requests<3,>=2.21.0 in /usr/local/lib/python3.6/dist-packages (from tensorboard<2.3.0,>=2.2.0->tensorflow~=2.0; extra == \"tensorflow\"->pyhf[jax,tensorflow,torch,xmlio]) (2.23.0)\n",
            "Requirement already satisfied: tensorboard-plugin-wit>=1.6.0 in /usr/local/lib/python3.6/dist-packages (from tensorboard<2.3.0,>=2.2.0->tensorflow~=2.0; extra == \"tensorflow\"->pyhf[jax,tensorflow,torch,xmlio]) (1.6.0.post3)\n",
            "Requirement already satisfied: rsa<4.1,>=3.1.4 in /usr/local/lib/python3.6/dist-packages (from google-auth<2,>=1.6.3->tensorboard<2.3.0,>=2.2.0->tensorflow~=2.0; extra == \"tensorflow\"->pyhf[jax,tensorflow,torch,xmlio]) (4.0)\n",
            "Requirement already satisfied: pyasn1-modules>=0.2.1 in /usr/local/lib/python3.6/dist-packages (from google-auth<2,>=1.6.3->tensorboard<2.3.0,>=2.2.0->tensorflow~=2.0; extra == \"tensorflow\"->pyhf[jax,tensorflow,torch,xmlio]) (0.2.8)\n",
            "Requirement already satisfied: requests-oauthlib>=0.7.0 in /usr/local/lib/python3.6/dist-packages (from google-auth-oauthlib<0.5,>=0.4.1->tensorboard<2.3.0,>=2.2.0->tensorflow~=2.0; extra == \"tensorflow\"->pyhf[jax,tensorflow,torch,xmlio]) (1.3.0)\n",
            "Requirement already satisfied: chardet<4,>=3.0.2 in /usr/local/lib/python3.6/dist-packages (from requests<3,>=2.21.0->tensorboard<2.3.0,>=2.2.0->tensorflow~=2.0; extra == \"tensorflow\"->pyhf[jax,tensorflow,torch,xmlio]) (3.0.4)\n",
            "Requirement already satisfied: certifi>=2017.4.17 in /usr/local/lib/python3.6/dist-packages (from requests<3,>=2.21.0->tensorboard<2.3.0,>=2.2.0->tensorflow~=2.0; extra == \"tensorflow\"->pyhf[jax,tensorflow,torch,xmlio]) (2020.4.5.1)\n",
            "Requirement already satisfied: idna<3,>=2.5 in /usr/local/lib/python3.6/dist-packages (from requests<3,>=2.21.0->tensorboard<2.3.0,>=2.2.0->tensorflow~=2.0; extra == \"tensorflow\"->pyhf[jax,tensorflow,torch,xmlio]) (2.9)\n",
            "Requirement already satisfied: urllib3!=1.25.0,!=1.25.1,<1.26,>=1.21.1 in /usr/local/lib/python3.6/dist-packages (from requests<3,>=2.21.0->tensorboard<2.3.0,>=2.2.0->tensorflow~=2.0; extra == \"tensorflow\"->pyhf[jax,tensorflow,torch,xmlio]) (1.24.3)\n",
            "Requirement already satisfied: pyasn1>=0.1.3 in /usr/local/lib/python3.6/dist-packages (from rsa<4.1,>=3.1.4->google-auth<2,>=1.6.3->tensorboard<2.3.0,>=2.2.0->tensorflow~=2.0; extra == \"tensorflow\"->pyhf[jax,tensorflow,torch,xmlio]) (0.4.8)\n",
            "Requirement already satisfied: oauthlib>=3.0.0 in /usr/local/lib/python3.6/dist-packages (from requests-oauthlib>=0.7.0->google-auth-oauthlib<0.5,>=0.4.1->tensorboard<2.3.0,>=2.2.0->tensorflow~=2.0; extra == \"tensorflow\"->pyhf[jax,tensorflow,torch,xmlio]) (3.1.0)\n"
          ],
          "name": "stdout"
        }
      ]
    },
    {
      "cell_type": "code",
      "metadata": {
        "id": "4uc5eq4W22tu",
        "colab_type": "code",
        "colab": {
          "base_uri": "https://localhost:8080/",
          "height": 51
        },
        "outputId": "7d2ad6c6-484c-4f41-ee9c-d0f82e64b0ef"
      },
      "source": [
        "import tensorflow as tf\n",
        "tf.config.get_visible_devices()\n",
        "\n",
        "# try:\n",
        "#   tpu = tf.distribute.cluster_resolver.TPUClusterResolver()  # TPU detection\n",
        "#   print('Running on TPU ', tpu.cluster_spec().as_dict()['worker'])\n",
        "# except ValueError:\n",
        "#   raise BaseException('ERROR: Not connected to a TPU runtime; please see the previous cell in this notebook for instructions!')\n",
        "\n",
        "# tf.config.experimental_connect_to_cluster(tpu)\n",
        "# tf.tpu.experimental.initialize_tpu_system(tpu)\n",
        "# tpu_strategy = tf.distribute.experimental.TPUStrategy(tpu)"
      ],
      "execution_count": 9,
      "outputs": [
        {
          "output_type": "execute_result",
          "data": {
            "text/plain": [
              "[PhysicalDevice(name='/physical_device:CPU:0', device_type='CPU'),\n",
              " PhysicalDevice(name='/physical_device:GPU:0', device_type='GPU')]"
            ]
          },
          "metadata": {
            "tags": []
          },
          "execution_count": 9
        }
      ]
    },
    {
      "cell_type": "code",
      "metadata": {
        "id": "zsVABioy3lhM",
        "colab_type": "code",
        "colab": {
          "base_uri": "https://localhost:8080/",
          "height": 34
        },
        "outputId": "909cf692-5956-4d97-dc91-f1a76c52de35"
      },
      "source": [
        "tf.config.get_visible_devices()"
      ],
      "execution_count": 3,
      "outputs": [
        {
          "output_type": "execute_result",
          "data": {
            "text/plain": [
              "[PhysicalDevice(name='/physical_device:CPU:0', device_type='CPU')]"
            ]
          },
          "metadata": {
            "tags": []
          },
          "execution_count": 3
        }
      ]
    },
    {
      "cell_type": "code",
      "metadata": {
        "id": "IY9-k-wj5Icx",
        "colab_type": "code",
        "colab": {
          "base_uri": "https://localhost:8080/",
          "height": 306
        },
        "outputId": "9b567530-e892-4654-8a66-1d17da9ec263"
      },
      "source": [
        "tf.config.set_visible_devices([], 'CPU')"
      ],
      "execution_count": 6,
      "outputs": [
        {
          "output_type": "error",
          "ename": "RuntimeError",
          "evalue": "ignored",
          "traceback": [
            "\u001b[0;31m---------------------------------------------------------------------------\u001b[0m",
            "\u001b[0;31mRuntimeError\u001b[0m                              Traceback (most recent call last)",
            "\u001b[0;32m<ipython-input-6-e0e548e51e90>\u001b[0m in \u001b[0;36m<module>\u001b[0;34m()\u001b[0m\n\u001b[0;32m----> 1\u001b[0;31m \u001b[0mtf\u001b[0m\u001b[0;34m.\u001b[0m\u001b[0mconfig\u001b[0m\u001b[0;34m.\u001b[0m\u001b[0mset_visible_devices\u001b[0m\u001b[0;34m(\u001b[0m\u001b[0;34m[\u001b[0m\u001b[0;34m]\u001b[0m\u001b[0;34m,\u001b[0m \u001b[0;34m'CPU'\u001b[0m\u001b[0;34m)\u001b[0m\u001b[0;34m\u001b[0m\u001b[0;34m\u001b[0m\u001b[0m\n\u001b[0m",
            "\u001b[0;32m/usr/local/lib/python3.6/dist-packages/tensorflow/python/framework/config.py\u001b[0m in \u001b[0;36mset_visible_devices\u001b[0;34m(devices, device_type)\u001b[0m\n\u001b[1;32m    441\u001b[0m     \u001b[0mRuntimeError\u001b[0m\u001b[0;34m:\u001b[0m \u001b[0mRuntime\u001b[0m \u001b[0;32mis\u001b[0m \u001b[0malready\u001b[0m \u001b[0minitialized\u001b[0m\u001b[0;34m.\u001b[0m\u001b[0;34m\u001b[0m\u001b[0;34m\u001b[0m\u001b[0m\n\u001b[1;32m    442\u001b[0m   \"\"\"\n\u001b[0;32m--> 443\u001b[0;31m   \u001b[0mcontext\u001b[0m\u001b[0;34m.\u001b[0m\u001b[0mcontext\u001b[0m\u001b[0;34m(\u001b[0m\u001b[0;34m)\u001b[0m\u001b[0;34m.\u001b[0m\u001b[0mset_visible_devices\u001b[0m\u001b[0;34m(\u001b[0m\u001b[0mdevices\u001b[0m\u001b[0;34m,\u001b[0m \u001b[0mdevice_type\u001b[0m\u001b[0;34m)\u001b[0m\u001b[0;34m\u001b[0m\u001b[0;34m\u001b[0m\u001b[0m\n\u001b[0m\u001b[1;32m    444\u001b[0m \u001b[0;34m\u001b[0m\u001b[0m\n\u001b[1;32m    445\u001b[0m \u001b[0;34m\u001b[0m\u001b[0m\n",
            "\u001b[0;32m/usr/local/lib/python3.6/dist-packages/tensorflow/python/eager/context.py\u001b[0m in \u001b[0;36mset_visible_devices\u001b[0;34m(self, devices, device_type)\u001b[0m\n\u001b[1;32m   1292\u001b[0m     \u001b[0;32mif\u001b[0m \u001b[0mself\u001b[0m\u001b[0;34m.\u001b[0m\u001b[0m_context_handle\u001b[0m \u001b[0;32mis\u001b[0m \u001b[0;32mnot\u001b[0m \u001b[0;32mNone\u001b[0m\u001b[0;34m:\u001b[0m\u001b[0;34m\u001b[0m\u001b[0;34m\u001b[0m\u001b[0m\n\u001b[1;32m   1293\u001b[0m       raise RuntimeError(\n\u001b[0;32m-> 1294\u001b[0;31m           \"Visible devices cannot be modified after being initialized\")\n\u001b[0m\u001b[1;32m   1295\u001b[0m \u001b[0;34m\u001b[0m\u001b[0m\n\u001b[1;32m   1296\u001b[0m     \u001b[0mself\u001b[0m\u001b[0;34m.\u001b[0m\u001b[0m_visible_device_list\u001b[0m \u001b[0;34m=\u001b[0m \u001b[0mvisible_device_list\u001b[0m\u001b[0;34m\u001b[0m\u001b[0;34m\u001b[0m\u001b[0m\n",
            "\u001b[0;31mRuntimeError\u001b[0m: Visible devices cannot be modified after being initialized"
          ]
        }
      ]
    },
    {
      "cell_type": "code",
      "metadata": {
        "id": "lo3o5fii22tx",
        "colab_type": "code",
        "colab": {}
      },
      "source": [
        "import numpy as np\n",
        "import pyhf\n",
        "import timeit"
      ],
      "execution_count": 0,
      "outputs": []
    },
    {
      "cell_type": "code",
      "metadata": {
        "id": "Hah_V1I922t1",
        "colab_type": "code",
        "colab": {}
      },
      "source": [
        "def generate_source_poisson(n_bins):\n",
        "    \"\"\"\n",
        "    Create the source structure for the given number of bins.\n",
        "    Sample from a Poisson distribution\n",
        "    Args:\n",
        "        n_bins: `list` of number of bins\n",
        "    Returns:\n",
        "        source\n",
        "    \"\"\"\n",
        "    np.random.seed(0)  # Fix seed for reproducibility\n",
        "    binning = [n_bins, -0.5, n_bins + 0.5]\n",
        "    data = np.random.poisson(120.0, n_bins).tolist()\n",
        "    bkg = np.random.poisson(100.0, n_bins).tolist()\n",
        "    bkgerr = np.random.poisson(10.0, n_bins).tolist()\n",
        "    sig = np.random.poisson(30.0, n_bins).tolist()\n",
        "\n",
        "    source = {\n",
        "        \"binning\": binning,\n",
        "        \"bindata\": {\"data\": data, \"bkg\": bkg, \"bkgerr\": bkgerr, \"sig\": sig},\n",
        "    }\n",
        "    return source\n",
        "\n",
        "\n",
        "def timeit_setup(n_bins, backend_name, mode):\n",
        "    source = generate_source_poisson(n_bins)\n",
        "    model = pyhf.simplemodels.hepdata_like(\n",
        "        source[\"bindata\"][\"sig\"], source[\"bindata\"][\"bkg\"], source[\"bindata\"][\"bkgerr\"]\n",
        "    )\n",
        "    pyhf.set_backend(backend_name)\n",
        "    data = pyhf.tensorlib.astensor(source[\"bindata\"][\"data\"] + model.config.auxdata)\n",
        "    test_poi = 1.0\n",
        "    return test_poi, data, model\n",
        "\n",
        "\n",
        "def timeit_run(test_mu, data, model):\n",
        "    # tensorlib is set in timeit_setup\n",
        "    return pyhf.infer.hypotest(test_mu, data, model)\n",
        "\n",
        "\n",
        "def generate_setup_string(n_bins, backend_name, mode):\n",
        "    setup_string = (\n",
        "        \"from __main__ import generate_source_poisson, timeit_setup, timeit_run; \"\n",
        "    )\n",
        "    setup_string += \"import numpy as np; \"\n",
        "    if mode.lower() == \"cpu\":\n",
        "        if backend_name.lower() == \"tensorflow\":\n",
        "            # Hide the GPU from TensorFlow\n",
        "            setup_string += \"import tensorflow as tf; \"\n",
        "            setup_string += \"tf.config.set_visible_devices([], 'GPU'); \"\n",
        "        elif backend_name.lower() == \"jax\":\n",
        "          setup_string += \"import os; \"\n",
        "          setup_string += \"os.environ['JAX_PLATFORM_NAME'] = 'cpu'; \"\n",
        "    elif mode.lower() != \"gpu\":\n",
        "        return \"ERROR\"\n",
        "    setup_string += (\n",
        "        f\"test_mu, data, model = timeit_setup({n_bins}, '{backend_name}', '{mode}')\"\n",
        "    )\n",
        "    return setup_string"
      ],
      "execution_count": 0,
      "outputs": []
    },
    {
      "cell_type": "code",
      "metadata": {
        "id": "1elIemfJ22t5",
        "colab_type": "code",
        "colab": {
          "base_uri": "https://localhost:8080/",
          "height": 34
        },
        "outputId": "565ea78f-1db5-4804-f428-956f3216dfbc"
      },
      "source": [
        "n_bins = 10\n",
        "# setup_string = generate_setup_string(n_bins, \"numpy\", \"CPU\")\n",
        "# setup_string = generate_setup_string(n_bins, \"tensorflow\", \"GPU\")\n",
        "# setup_string = generate_setup_string(n_bins, \"jax\", \"GPU\")\n",
        "# setup_string = generate_setup_string(n_bins, \"jax\", \"CPU\")\n",
        "setup_string = generate_setup_string(n_bins, \"pytorch\", \"GPU\")\n",
        "n_runs = 10\n",
        "exec_time = timeit.timeit('timeit_run(test_mu, data, model)', number=n_runs, setup=setup_string)\n",
        "exec_time, exec_time/n_runs"
      ],
      "execution_count": 45,
      "outputs": [
        {
          "output_type": "execute_result",
          "data": {
            "text/plain": [
              "(4.1220403590004935, 0.41220403590004934)"
            ]
          },
          "metadata": {
            "tags": []
          },
          "execution_count": 45
        }
      ]
    },
    {
      "cell_type": "code",
      "metadata": {
        "id": "qTY2kRLj_7QR",
        "colab_type": "code",
        "colab": {
          "base_uri": "https://localhost:8080/",
          "height": 34
        },
        "outputId": "9bdcf895-6a17-4398-900e-02d08fe8a18e"
      },
      "source": [
        "np.linspace(200, 400, 3)"
      ],
      "execution_count": 32,
      "outputs": [
        {
          "output_type": "execute_result",
          "data": {
            "text/plain": [
              "array([200., 300., 400.])"
            ]
          },
          "metadata": {
            "tags": []
          },
          "execution_count": 32
        }
      ]
    },
    {
      "cell_type": "code",
      "metadata": {
        "id": "4TzEfY_F22t9",
        "colab_type": "code",
        "colab": {
          "base_uri": "https://localhost:8080/",
          "height": 255
        },
        "outputId": "0e3e5167-68ab-4f39-bc00-951b44d3eefa"
      },
      "source": [
        "results = [(\"n_bins\", \"total_time\", \"n_runs\", \"time_run\")]\n",
        "# np.linspace(500,7000,14)\n",
        "bin_range = np.linspace(10, 100, 10)\n",
        "print(bin_range)\n",
        "\n",
        "# backend_name = \"jax\"\n",
        "backend_name = \"pytorch\"\n",
        "mode = \"GPU\"\n",
        "# mode = \"CPU\"\n",
        "n_runs = 10\n",
        "\n",
        "for n_bins in bin_range:\n",
        "    n_bins = int(n_bins)\n",
        "    setup_string = generate_setup_string(n_bins, backend_name, mode)\n",
        "    exec_time = timeit.timeit(\n",
        "        \"timeit_run(test_mu, data, model)\", number=n_runs, setup=setup_string\n",
        "    )\n",
        "\n",
        "    results.append((n_bins, exec_time, n_runs, exec_time / n_runs))\n",
        "    print(\n",
        "        \"N: {} time: {} time per run: {}\".format(n_bins, exec_time, exec_time / n_runs)\n",
        "    )\n",
        "\n",
        "bin_range = np.linspace(200, 400, 3)\n",
        "for n_bins in bin_range:\n",
        "    n_bins = int(n_bins)\n",
        "    setup_string = generate_setup_string(n_bins, backend_name, mode)\n",
        "    exec_time = timeit.timeit(\n",
        "        \"timeit_run(test_mu, data, model)\", number=n_runs, setup=setup_string\n",
        "    )\n",
        "\n",
        "    results.append((n_bins, exec_time, n_runs, exec_time / n_runs))\n",
        "    print(\n",
        "        \"N: {} time: {} time per run: {}\".format(n_bins, exec_time, exec_time / n_runs)\n",
        "    )"
      ],
      "execution_count": 46,
      "outputs": [
        {
          "output_type": "stream",
          "text": [
            "[ 10.  20.  30.  40.  50.  60.  70.  80.  90. 100.]\n",
            "N: 10 time: 3.9313855069995043 time per run: 0.3931385506999504\n",
            "N: 20 time: 7.615285956000662 time per run: 0.7615285956000661\n",
            "N: 30 time: 11.146268945999509 time per run: 1.114626894599951\n",
            "N: 40 time: 13.120708712000123 time per run: 1.3120708712000124\n",
            "N: 50 time: 14.250283641999886 time per run: 1.4250283641999886\n",
            "N: 60 time: 15.666430123999817 time per run: 1.5666430123999817\n",
            "N: 70 time: 17.96576649600047 time per run: 1.796576649600047\n",
            "N: 80 time: 19.814492148999307 time per run: 1.9814492148999308\n",
            "N: 90 time: 23.184895922000578 time per run: 2.318489592200058\n",
            "N: 100 time: 26.30782556000031 time per run: 2.630782556000031\n",
            "N: 200 time: 85.87422372000037 time per run: 8.587422372000038\n",
            "N: 300 time: 268.8202191139999 time per run: 26.88202191139999\n",
            "N: 400 time: 619.1974339330009 time per run: 61.91974339330009\n"
          ],
          "name": "stdout"
        }
      ]
    },
    {
      "cell_type": "code",
      "metadata": {
        "id": "9_w6kCqI22uA",
        "colab_type": "code",
        "colab": {
          "base_uri": "https://localhost:8080/",
          "height": 34
        },
        "outputId": "6bb787ff-8fc1-4915-9589-64a78f55dd3f"
      },
      "source": [
        "setup_string"
      ],
      "execution_count": 19,
      "outputs": [
        {
          "output_type": "execute_result",
          "data": {
            "text/plain": [
              "\"from __main__ import generate_source_poisson, timeit_setup, timeit_run; import numpy as np; test_mu, data, model = timeit_setup(500, 'jax', 'GPU')\""
            ]
          },
          "metadata": {
            "tags": []
          },
          "execution_count": 19
        }
      ]
    },
    {
      "cell_type": "code",
      "metadata": {
        "id": "r5Dtit2422uE",
        "colab_type": "code",
        "colab": {
          "base_uri": "https://localhost:8080/",
          "height": 255
        },
        "outputId": "f77fdb0c-2175-44bf-b581-bc7d163cb2ea"
      },
      "source": [
        "results"
      ],
      "execution_count": 47,
      "outputs": [
        {
          "output_type": "execute_result",
          "data": {
            "text/plain": [
              "[('n_bins', 'total_time', 'n_runs', 'time_run'),\n",
              " (10, 3.9313855069995043, 10, 0.3931385506999504),\n",
              " (20, 7.615285956000662, 10, 0.7615285956000661),\n",
              " (30, 11.146268945999509, 10, 1.114626894599951),\n",
              " (40, 13.120708712000123, 10, 1.3120708712000124),\n",
              " (50, 14.250283641999886, 10, 1.4250283641999886),\n",
              " (60, 15.666430123999817, 10, 1.5666430123999817),\n",
              " (70, 17.96576649600047, 10, 1.796576649600047),\n",
              " (80, 19.814492148999307, 10, 1.9814492148999308),\n",
              " (90, 23.184895922000578, 10, 2.318489592200058),\n",
              " (100, 26.30782556000031, 10, 2.630782556000031),\n",
              " (200, 85.87422372000037, 10, 8.587422372000038),\n",
              " (300, 268.8202191139999, 10, 26.88202191139999),\n",
              " (400, 619.1974339330009, 10, 61.91974339330009)]"
            ]
          },
          "metadata": {
            "tags": []
          },
          "execution_count": 47
        }
      ]
    },
    {
      "cell_type": "code",
      "metadata": {
        "id": "AL1YOcby22uH",
        "colab_type": "code",
        "colab": {},
        "outputId": "670de09e-1da7-4949-96cb-8cbe7b4b2635"
      },
      "source": [
        "results_numpy_collab = [\n",
        "    (\"n_bins\", \"total_time\", \"n_runs\", \"time_run\"),\n",
        "    (10, 2.2352187829999934, 10, 0.22352187829999934),\n",
        "    (20, 6.113863463999962, 10, 0.6113863463999962),\n",
        "    (30, 11.584778862999997, 10, 1.1584778862999996),\n",
        "    (40, 19.104935302, 10, 1.9104935302000001),\n",
        "    (50, 26.417424089999997, 10, 2.641742409),\n",
        "    (60, 36.24537549899998, 10, 3.6245375498999977),\n",
        "    (70, 45.28580712600001, 10, 4.528580712600001),\n",
        "    (80, 61.6147713549999, 10, 6.16147713549999),\n",
        "    (90, 75.02070651600002, 10, 7.502070651600002),\n",
        "    (100, 94.42928027699998, 10, 9.442928027699997),\n",
        "]\n",
        "results_numpy_collab"
      ],
      "execution_count": 0,
      "outputs": [
        {
          "output_type": "execute_result",
          "data": {
            "text/plain": [
              "[('n_bins', 'total_time', 'n_runs', 'time_run'),\n",
              " (10, 2.2352187829999934, 10, 0.22352187829999934),\n",
              " (20, 6.113863463999962, 10, 0.6113863463999962),\n",
              " (30, 11.584778862999997, 10, 1.1584778862999996),\n",
              " (40, 19.104935302, 10, 1.9104935302000001),\n",
              " (50, 26.417424089999997, 10, 2.641742409),\n",
              " (60, 36.24537549899998, 10, 3.6245375498999977),\n",
              " (70, 45.28580712600001, 10, 4.528580712600001),\n",
              " (80, 61.6147713549999, 10, 6.16147713549999),\n",
              " (90, 75.02070651600002, 10, 7.502070651600002),\n",
              " (100, 94.42928027699998, 10, 9.442928027699997)]"
            ]
          },
          "metadata": {
            "tags": []
          },
          "execution_count": 8
        }
      ]
    },
    {
      "cell_type": "code",
      "metadata": {
        "id": "U_Ib5WLmH4J0",
        "colab_type": "code",
        "colab": {
          "base_uri": "https://localhost:8080/",
          "height": 255
        },
        "outputId": "f14363a1-ed9b-419b-fcbe-88d25228ede6"
      },
      "source": [
        "results_jax_collab_GPU = [('n_bins', 'total_time', 'n_runs', 'time_run'),\n",
        " (10, 5.180383256999903, 10, 0.5180383256999903),\n",
        " (20, 8.16930957500017, 10, 0.816930957500017),\n",
        " (30, 11.560012628000095, 10, 1.1560012628000096),\n",
        " (40, 12.531578961999912, 10, 1.2531578961999912),\n",
        " (50, 13.671631753999918, 10, 1.3671631753999918),\n",
        " (60, 16.720749974999762, 10, 1.6720749974999762),\n",
        " (70, 18.179294258000027, 10, 1.8179294258000027),\n",
        " (80, 21.993176809000033, 10, 2.1993176809000032),\n",
        " (90, 24.47737637299997, 10, 2.447737637299997),\n",
        " (100, 28.45362073100023, 10, 2.8453620731000226),\n",
        " (200, 106.07671823100009, 10, 10.60767182310001),\n",
        " (300, 323.5418221919999, 10, 32.35418221919999),\n",
        " (400, 704.4336696660002, 10, 70.44336696660002)]\n",
        "results_jax_collab_GPU"
      ],
      "execution_count": 21,
      "outputs": [
        {
          "output_type": "execute_result",
          "data": {
            "text/plain": [
              "[('n_bins', 'total_time', 'n_runs', 'time_run'),\n",
              " (10, 5.180383256999903, 10, 0.5180383256999903),\n",
              " (20, 8.16930957500017, 10, 0.816930957500017),\n",
              " (30, 11.560012628000095, 10, 1.1560012628000096),\n",
              " (40, 12.531578961999912, 10, 1.2531578961999912),\n",
              " (50, 13.671631753999918, 10, 1.3671631753999918),\n",
              " (60, 16.720749974999762, 10, 1.6720749974999762),\n",
              " (70, 18.179294258000027, 10, 1.8179294258000027),\n",
              " (80, 21.993176809000033, 10, 2.1993176809000032),\n",
              " (90, 24.47737637299997, 10, 2.447737637299997),\n",
              " (100, 28.45362073100023, 10, 2.8453620731000226),\n",
              " (200, 106.07671823100009, 10, 10.60767182310001),\n",
              " (300, 323.5418221919999, 10, 32.35418221919999),\n",
              " (400, 704.4336696660002, 10, 70.44336696660002)]"
            ]
          },
          "metadata": {
            "tags": []
          },
          "execution_count": 21
        }
      ]
    },
    {
      "cell_type": "code",
      "metadata": {
        "id": "6uYMLZz3RKkU",
        "colab_type": "code",
        "colab": {
          "base_uri": "https://localhost:8080/",
          "height": 255
        },
        "outputId": "75f0b813-e0d8-4b04-f196-15de731bbf13"
      },
      "source": [
        "results_jax_collab_CPU = [('n_bins', 'total_time', 'n_runs', 'time_run'),\n",
        " (10, 5.088359718999527, 10, 0.5088359718999527),\n",
        " (20, 8.199575525, 10, 0.8199575525),\n",
        " (30, 11.334416241999861, 10, 1.133441624199986),\n",
        " (40, 12.188941659000193, 10, 1.2188941659000192),\n",
        " (50, 13.471506781999778, 10, 1.3471506781999778),\n",
        " (60, 16.563559121999788, 10, 1.6563559121999787),\n",
        " (70, 17.81586835300004, 10, 1.7815868353000042),\n",
        " (80, 21.780555205999917, 10, 2.1780555205999916),\n",
        " (90, 24.288290056999358, 10, 2.428829005699936),\n",
        " (100, 27.980713243000537, 10, 2.7980713243000537),\n",
        " (200, 103.16081419999955, 10, 10.316081419999955),\n",
        " (300, 323.0815654040007, 10, 32.30815654040007),\n",
        " (400, 707.8526506119997, 10, 70.78526506119996)]\n",
        "results_jax_collab_CPU"
      ],
      "execution_count": 36,
      "outputs": [
        {
          "output_type": "execute_result",
          "data": {
            "text/plain": [
              "[('n_bins', 'total_time', 'n_runs', 'time_run'),\n",
              " (10, 5.088359718999527, 10, 0.5088359718999527),\n",
              " (20, 8.199575525, 10, 0.8199575525),\n",
              " (30, 11.334416241999861, 10, 1.133441624199986),\n",
              " (40, 12.188941659000193, 10, 1.2188941659000192),\n",
              " (50, 13.471506781999778, 10, 1.3471506781999778),\n",
              " (60, 16.563559121999788, 10, 1.6563559121999787),\n",
              " (70, 17.81586835300004, 10, 1.7815868353000042),\n",
              " (80, 21.780555205999917, 10, 2.1780555205999916),\n",
              " (90, 24.288290056999358, 10, 2.428829005699936),\n",
              " (100, 27.980713243000537, 10, 2.7980713243000537),\n",
              " (200, 103.16081419999955, 10, 10.316081419999955),\n",
              " (300, 323.0815654040007, 10, 32.30815654040007),\n",
              " (400, 707.8526506119997, 10, 70.78526506119996)]"
            ]
          },
          "metadata": {
            "tags": []
          },
          "execution_count": 36
        }
      ]
    },
    {
      "cell_type": "code",
      "metadata": {
        "id": "a9uHd-b7XXQ8",
        "colab_type": "code",
        "colab": {
          "base_uri": "https://localhost:8080/",
          "height": 255
        },
        "outputId": "25ace1d7-8060-4c3e-8ae6-b7e1c612c8a3"
      },
      "source": [
        "results_pytorch_collab_GPU = [('n_bins', 'total_time', 'n_runs', 'time_run'),\n",
        " (10, 3.9313855069995043, 10, 0.3931385506999504),\n",
        " (20, 7.615285956000662, 10, 0.7615285956000661),\n",
        " (30, 11.146268945999509, 10, 1.114626894599951),\n",
        " (40, 13.120708712000123, 10, 1.3120708712000124),\n",
        " (50, 14.250283641999886, 10, 1.4250283641999886),\n",
        " (60, 15.666430123999817, 10, 1.5666430123999817),\n",
        " (70, 17.96576649600047, 10, 1.796576649600047),\n",
        " (80, 19.814492148999307, 10, 1.9814492148999308),\n",
        " (90, 23.184895922000578, 10, 2.318489592200058),\n",
        " (100, 26.30782556000031, 10, 2.630782556000031),\n",
        " (200, 85.87422372000037, 10, 8.587422372000038),\n",
        " (300, 268.8202191139999, 10, 26.88202191139999),\n",
        " (400, 619.1974339330009, 10, 61.91974339330009)]\n",
        "results_pytorch_collab_GPU"
      ],
      "execution_count": 48,
      "outputs": [
        {
          "output_type": "execute_result",
          "data": {
            "text/plain": [
              "[('n_bins', 'total_time', 'n_runs', 'time_run'),\n",
              " (10, 3.9313855069995043, 10, 0.3931385506999504),\n",
              " (20, 7.615285956000662, 10, 0.7615285956000661),\n",
              " (30, 11.146268945999509, 10, 1.114626894599951),\n",
              " (40, 13.120708712000123, 10, 1.3120708712000124),\n",
              " (50, 14.250283641999886, 10, 1.4250283641999886),\n",
              " (60, 15.666430123999817, 10, 1.5666430123999817),\n",
              " (70, 17.96576649600047, 10, 1.796576649600047),\n",
              " (80, 19.814492148999307, 10, 1.9814492148999308),\n",
              " (90, 23.184895922000578, 10, 2.318489592200058),\n",
              " (100, 26.30782556000031, 10, 2.630782556000031),\n",
              " (200, 85.87422372000037, 10, 8.587422372000038),\n",
              " (300, 268.8202191139999, 10, 26.88202191139999),\n",
              " (400, 619.1974339330009, 10, 61.91974339330009)]"
            ]
          },
          "metadata": {
            "tags": []
          },
          "execution_count": 48
        }
      ]
    }
  ]
}