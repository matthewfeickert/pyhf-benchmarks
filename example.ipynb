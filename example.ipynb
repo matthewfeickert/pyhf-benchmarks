{
 "cells": [
  {
   "cell_type": "code",
   "execution_count": 1,
   "metadata": {},
   "outputs": [],
   "source": [
    "import numpy as np\n",
    "import pyhf\n",
    "import timeit"
   ]
  },
  {
   "cell_type": "code",
   "execution_count": 2,
   "metadata": {},
   "outputs": [],
   "source": [
    "def generate_source_poisson(n_bins):\n",
    "    \"\"\"\n",
    "    Create the source structure for the given number of bins.\n",
    "    Sample from a Poisson distribution\n",
    "    Args:\n",
    "        n_bins: `list` of number of bins\n",
    "    Returns:\n",
    "        source\n",
    "    \"\"\"\n",
    "    np.random.seed(0)  # Fix seed for reproducibility\n",
    "    binning = [n_bins, -0.5, n_bins + 0.5]\n",
    "    data = np.random.poisson(120.0, n_bins).tolist()\n",
    "    bkg = np.random.poisson(100.0, n_bins).tolist()\n",
    "    bkgerr = np.random.poisson(10.0, n_bins).tolist()\n",
    "    sig = np.random.poisson(30.0, n_bins).tolist()\n",
    "\n",
    "    source = {\n",
    "        'binning': binning,\n",
    "        'bindata': {'data': data, 'bkg': bkg, 'bkgerr': bkgerr, 'sig': sig},\n",
    "    }\n",
    "    return source\n",
    "\n",
    "def timeit_setup(n_bins, backend_name, mode):\n",
    "    source = generate_source_poisson(n_bins)\n",
    "    model = pyhf.simplemodels.hepdata_like(\n",
    "        source['bindata']['sig'], source['bindata']['bkg'], source['bindata']['bkgerr']\n",
    "    )\n",
    "    pyhf.set_backend(backend_name)\n",
    "    data = pyhf.tensorlib.astensor(source['bindata']['data'] + model.config.auxdata)\n",
    "    test_poi = 1.0\n",
    "    return test_poi, data, model\n",
    "    \n",
    "def timeit_run(test_mu, data, model):\n",
    "    # tensorlib is set in timeit_setup\n",
    "    return pyhf.infer.hypotest(\n",
    "        test_mu,\n",
    "        data,\n",
    "        model\n",
    "    )\n",
    "\n",
    "def generate_setup_string(n_bins, backend_name, mode):\n",
    "    setup_string = \"from __main__ import generate_source_poisson, timeit_setup, timeit_run; \"\n",
    "    setup_string += \"import numpy as np; \"\n",
    "    if mode.lower() == \"cpu\":\n",
    "        if backend_name.lower() == \"tensorflow\":\n",
    "            # Hide the GPU from TensorFlow\n",
    "            setup_string += \"import tensorflow as tf; \"\n",
    "            setup_string += \"tf.config.set_visible_devices([], 'GPU'); \"\n",
    "    elif mode.lower() != \"gpu\":\n",
    "        return \"ERROR\"\n",
    "    setup_string += f\"test_mu, data, model = timeit_setup({n_bins}, '{backend_name}', '{mode}')\"\n",
    "    return setup_string"
   ]
  },
  {
   "cell_type": "code",
   "execution_count": 3,
   "metadata": {},
   "outputs": [
    {
     "data": {
      "text/plain": [
       "(1.6086194328963757, 0.16086194328963757)"
      ]
     },
     "execution_count": 3,
     "metadata": {},
     "output_type": "execute_result"
    }
   ],
   "source": [
    "n_bins = 10\n",
    "setup_string = generate_setup_string(n_bins, \"numpy\", \"CPU\")\n",
    "# setup_string = generate_setup_string(n_bins, \"tensorflow\", \"CPU\")\n",
    "n_runs = 10\n",
    "exec_time = timeit.timeit('timeit_run(test_mu, data, model)', number=n_runs, setup=setup_string)\n",
    "exec_time, exec_time/n_runs"
   ]
  },
  {
   "cell_type": "code",
   "execution_count": 4,
   "metadata": {},
   "outputs": [
    {
     "name": "stdout",
     "output_type": "stream",
     "text": [
      "[ 1.    3.25  5.5   7.75 10.  ]\n",
      "N: 1 time: 0.16665149992331862 time per run: 0.016665149992331863\n",
      "N: 3 time: 0.4205212080851197 time per run: 0.04205212080851197\n",
      "N: 5 time: 0.7023275690153241 time per run: 0.07023275690153241\n",
      "N: 7 time: 1.04108702018857 time per run: 0.104108702018857\n",
      "N: 10 time: 1.590267052873969 time per run: 0.1590267052873969\n"
     ]
    }
   ],
   "source": [
    "results = [(\"n_bins\", \"total_time\", \"n_runs\", \"time_run\")]\n",
    "# np.linspace(500,7000,14)\n",
    "bin_range = np.linspace(1,10,5)\n",
    "print(bin_range)\n",
    "\n",
    "backend_name = \"numpy\"\n",
    "mode = \"CPU\"\n",
    "n_runs = 10\n",
    "\n",
    "for n_bins in bin_range:\n",
    "    n_bins = int(n_bins)\n",
    "    setup_string = generate_setup_string(n_bins, backend_name, mode)\n",
    "    exec_time = timeit.timeit('timeit_run(test_mu, data, model)', number=n_runs, setup=setup_string)\n",
    "    \n",
    "    results.append((n_bins, exec_time, n_runs, exec_time/n_runs))\n",
    "    print('N: {} time: {} time per run: {}'.format(n_bins, exec_time, exec_time/n_runs))"
   ]
  },
  {
   "cell_type": "code",
   "execution_count": 5,
   "metadata": {},
   "outputs": [
    {
     "data": {
      "text/plain": [
       "\"from __main__ import generate_source_poisson, timeit_setup, timeit_run; import numpy as np; test_mu, data, model = timeit_setup(10, 'numpy', 'CPU')\""
      ]
     },
     "execution_count": 5,
     "metadata": {},
     "output_type": "execute_result"
    }
   ],
   "source": [
    "setup_string"
   ]
  },
  {
   "cell_type": "code",
   "execution_count": 6,
   "metadata": {},
   "outputs": [
    {
     "data": {
      "text/plain": [
       "[('n_bins', 'total_time', 'n_runs', 'time_run'),\n",
       " (1, 0.16665149992331862, 10, 0.016665149992331863),\n",
       " (3, 0.4205212080851197, 10, 0.04205212080851197),\n",
       " (5, 0.7023275690153241, 10, 0.07023275690153241),\n",
       " (7, 1.04108702018857, 10, 0.104108702018857),\n",
       " (10, 1.590267052873969, 10, 0.1590267052873969)]"
      ]
     },
     "execution_count": 6,
     "metadata": {},
     "output_type": "execute_result"
    }
   ],
   "source": [
    "results"
   ]
  }
 ],
 "metadata": {
  "kernelspec": {
   "display_name": "Python 3",
   "language": "python",
   "name": "python3"
  },
  "language_info": {
   "codemirror_mode": {
    "name": "ipython",
    "version": 3
   },
   "file_extension": ".py",
   "mimetype": "text/x-python",
   "name": "python",
   "nbconvert_exporter": "python",
   "pygments_lexer": "ipython3",
   "version": "3.7.5"
  }
 },
 "nbformat": 4,
 "nbformat_minor": 4
}
